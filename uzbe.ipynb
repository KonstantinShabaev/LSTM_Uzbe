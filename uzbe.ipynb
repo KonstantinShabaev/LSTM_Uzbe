{
  "nbformat": 4,
  "nbformat_minor": 0,
  "metadata": {
    "colab": {
      "provenance": []
    },
    "kernelspec": {
      "name": "python3",
      "display_name": "Python 3"
    },
    "language_info": {
      "name": "python"
    }
  },
  "cells": [
    {
      "cell_type": "code",
      "execution_count": null,
      "metadata": {
        "id": "f4KwibXIZcmD"
      },
      "outputs": [],
      "source": [
        "import os\n",
        "import glob\n",
        "import pandas as pd\n",
        "import numpy as np\n",
        "import matplotlib.pyplot as plt\n",
        "from sklearn.preprocessing import MinMaxScaler\n",
        "from tensorflow.keras.models import Sequential\n",
        "from tensorflow.keras.layers import LSTM, Dense, Dropout\n",
        "from tensorflow.keras.callbacks import EarlyStopping\n"
      ]
    },
    {
      "cell_type": "code",
      "source": [
        "def calculate_indicators(df):\n",
        "    \"\"\"\n",
        "    Добавляет EMA, RSI и MACD к датафрейму.\n",
        "    \"\"\"\n",
        "    # EMA по цене закрытия (период 10)\n",
        "    df['EMA_10'] = df['Closed Price'].ewm(span=10, adjust=False).mean()\n",
        "\n",
        "    # RSI (14 периодов)\n",
        "    delta = df['Closed Price'].diff()\n",
        "    gain = delta.clip(lower=0).rolling(window=14).mean()\n",
        "    loss = -delta.clip(upper=0).rolling(window=14).mean()\n",
        "    rs = gain / loss\n",
        "    df['RSI_14'] = 100 - (100 / (1 + rs))\n",
        "\n",
        "    # MACD (разница между EMA12 и EMA26)\n",
        "    ema12 = df['Closed Price'].ewm(span=12, adjust=False).mean()\n",
        "    ema26 = df['Closed Price'].ewm(span=26, adjust=False).mean()\n",
        "    df['MACD'] = ema12 - ema26\n",
        "\n",
        "    df = df.dropna().reset_index(drop=True)\n",
        "    return df"
      ],
      "metadata": {
        "id": "n-sBNwFVZ07s"
      },
      "execution_count": null,
      "outputs": []
    },
    {
      "cell_type": "code",
      "source": [
        "def preprocess_data(file_path):\n",
        "    \"\"\"\n",
        "    Загружает данные, добавляет технические индикаторы и новые признаки,\n",
        "    создает целевую переменную.\n",
        "    \"\"\"\n",
        "    df = pd.read_excel(file_path)\n",
        "    df['Date'] = pd.to_datetime(df['Date'])\n",
        "    df = df.sort_values('Date').reset_index(drop=True)\n",
        "\n",
        "    # Удаляем пропуски, если они есть\n",
        "    df = df.dropna()\n",
        "\n",
        "    # Извлекаем признаки из даты\n",
        "    df['Weekday'] = df['Date'].dt.dayofweek  # 0 - понедельник, 6 - воскресенье\n",
        "    df['Month'] = df['Date'].dt.month\n",
        "\n",
        "    # Создаем целевую переменную: 1, если Next_Close > Closed Price, иначе 0\n",
        "    df['Next_Close'] = df['Closed Price'].shift(-1)\n",
        "    df['Target'] = (df['Next_Close'] > df['Closed Price']).astype(int)\n",
        "    df = df[:-1]  # последняя строка без next_close\n",
        "\n",
        "    # Добавляем технические индикаторы\n",
        "    df = calculate_indicators(df)\n",
        "    return df"
      ],
      "metadata": {
        "id": "G-bUbc7cZ2vz"
      },
      "execution_count": null,
      "outputs": []
    },
    {
      "cell_type": "code",
      "source": [
        "def create_sequences(X, y, time_steps=40):\n",
        "    \"\"\"\n",
        "    Формирует последовательности для подачи в LSTM.\n",
        "    \"\"\"\n",
        "    Xs, ys = [], []\n",
        "    for i in range(len(X) - time_steps):\n",
        "        Xs.append(X[i:(i+time_steps)])\n",
        "        ys.append(y[i+time_steps])\n",
        "    return np.array(Xs), np.array(ys)"
      ],
      "metadata": {
        "id": "X8w_E_cYZ3uE"
      },
      "execution_count": null,
      "outputs": []
    },
    {
      "cell_type": "code",
      "source": [
        "def build_and_train_lstm(units, dropout, batch_size, learning_rate):\n",
        "    \"\"\"\n",
        "    Функция для оптимизации гиперпараметров с Bayesian Optimization.\n",
        "    \"\"\"\n",
        "    model = Sequential([\n",
        "        LSTM(int(units), input_shape=(TIME_STEPS, X_train.shape[2]), return_sequences=False),\n",
        "        Dropout(dropout),\n",
        "        Dense(25, activation='relu'),\n",
        "        Dropout(dropout),\n",
        "        Dense(1, activation='sigmoid')\n",
        "    ])\n",
        "\n",
        "    optimizer = tf.keras.optimizers.Adam(learning_rate=learning_rate)\n",
        "    model.compile(loss='binary_crossentropy', optimizer=optimizer, metrics=['accuracy'])\n",
        "\n",
        "    history = model.fit(X_train, y_train,\n",
        "                        epochs=50, batch_size=int(batch_size),\n",
        "                        validation_data=(X_val, y_val),\n",
        "                        verbose=0)\n",
        "\n",
        "    val_loss = min(history.history['val_loss'])\n",
        "    return -val_loss"
      ],
      "metadata": {
        "id": "hh0NBjTVZ408"
      },
      "execution_count": null,
      "outputs": []
    },
    {
      "cell_type": "code",
      "source": [
        "data_folder = \"extracted_data4\"\n",
        "csv_files = glob.glob(os.path.join(data_folder, \"*.xlsx\"))\n",
        "\n",
        "TIME_STEPS = 45\n",
        "\n",
        "results = {}"
      ],
      "metadata": {
        "id": "q4ghwHEkZ6I0"
      },
      "execution_count": null,
      "outputs": []
    },
    {
      "cell_type": "code",
      "source": [
        "mas_accuracy=[]\n",
        "mas_name=[]\n",
        "for file in csv_files:\n",
        "    ticker = os.path.splitext(os.path.basename(file))[0]\n",
        "    print(f\"\\nОбработка данных для: {ticker}\")\n",
        "\n",
        "    # Предобработка данных\n",
        "    df = preprocess_data(file)\n",
        "\n",
        "    # Выбираем признаки:\n",
        "    # Исключаем Opened и Closed Price\n",
        "    # Используем: Change, Trading Volume (shr), Trading Value (KHR), High, Low, EMA_10, RSI_14, MACD, Weekday, Month\n",
        "    feature_columns = ['Change', 'Trading Volume (shr)', 'Trading Value (KHR)',\n",
        "                       'High', 'Low', 'EMA_10', 'RSI_14', 'MACD', 'Weekday', 'Month']\n",
        "    features = df[feature_columns]\n",
        "    target = df['Target']\n",
        "\n",
        "    # Масштабирование признаков\n",
        "    scaler = MinMaxScaler()\n",
        "    features_scaled = scaler.fit_transform(features)\n",
        "\n",
        "    # Формирование последовательностей для LSTM\n",
        "    X_seq, y_seq = create_sequences(features_scaled, target.values, time_steps=TIME_STEPS)\n",
        "\n",
        "    # Разделение данных по времени:\n",
        "    # первые 70% - обучение, следующие 15% - валидация, последние 15% - тест\n",
        "    train_size = int(0.7 * len(X_seq))\n",
        "    val_size = int(0.15 * len(X_seq))\n",
        "\n",
        "    X_train, y_train = X_seq[:train_size], y_seq[:train_size]\n",
        "    X_val, y_val = X_seq[train_size:train_size+val_size], y_seq[train_size:train_size+val_size]\n",
        "    X_test, y_test = X_seq[train_size+val_size:], y_seq[train_size+val_size:]\n",
        "\n",
        "    print(f\"Размеры выборок: Train {X_train.shape}, Val {X_val.shape}, Test {X_test.shape}\")\n",
        "\n",
        "    # Построение LSTM модели\n",
        "    model = Sequential()\n",
        "    model.add(LSTM(128, input_shape=(X_train.shape[1], X_train.shape[2]), return_sequences=False))\n",
        "    model.add(Dropout(0.3))\n",
        "    model.add(Dense(64, activation='relu'))\n",
        "    model.add(Dropout(0.3))\n",
        "    model.add(Dense(1, activation='sigmoid'))\n",
        "\n",
        "    model.compile(loss='binary_crossentropy', optimizer='adam', metrics=['accuracy'])\n",
        "    model.summary()\n",
        "\n",
        "    # Обучение модели с использованием ранней остановки\n",
        "    early_stop = EarlyStopping(monitor='val_loss', patience=10, restore_best_weights=True)\n",
        "    history = model.fit(X_train, y_train,\n",
        "                        epochs=100,\n",
        "                        batch_size=32,\n",
        "                        validation_data=(X_val, y_val),\n",
        "                        callbacks=[early_stop],\n",
        "                        verbose=1)\n",
        "\n",
        "    # Оценка модели на тестовой выборке\n",
        "    loss, accuracy = model.evaluate(X_test, y_test, verbose=0)\n",
        "    print(f\"{ticker}: Test Loss = {loss:.4f}, Test Accuracy = {accuracy:.4f}\")\n",
        "    mas_accuracy.append(accuracy)\n",
        "    mas_name.append(ticker)\n",
        "    # Графики обучения: loss и accuracy\n",
        "    plt.figure(figsize=(12,5))\n",
        "    plt.subplot(1,2,1)\n",
        "    plt.plot(history.history['loss'], label='Train Loss')\n",
        "    plt.plot(history.history['val_loss'], label='Val Loss')\n",
        "    plt.title(f\"{ticker} - Loss\")\n",
        "    plt.xlabel(\"Epoch\")\n",
        "    plt.ylabel(\"Loss\")\n",
        "    plt.legend()\n",
        "\n",
        "    plt.subplot(1,2,2)\n",
        "    plt.plot(history.history['accuracy'], label='Train Accuracy')\n",
        "    plt.plot(history.history['val_accuracy'], label='Val Accuracy')\n",
        "    plt.title(f\"{ticker} - Accuracy\")\n",
        "    plt.xlabel(\"Epoch\")\n",
        "    plt.ylabel(\"Accuracy\")\n",
        "    plt.legend()\n",
        "\n",
        "    plt.show()\n",
        "\n",
        "    results[ticker] = {'model': model, 'history': history.history, 'loss': loss, 'accuracy': accuracy}"
      ],
      "metadata": {
        "id": "eq8wpx9RaAqr"
      },
      "execution_count": null,
      "outputs": []
    },
    {
      "cell_type": "code",
      "source": [
        "mas_name,mas_accuracy"
      ],
      "metadata": {
        "id": "5SnpemRsaB-0"
      },
      "execution_count": null,
      "outputs": []
    },
    {
      "cell_type": "code",
      "source": [
        "import plotly.graph_objects as go\n",
        "import numpy as np\n",
        "\n",
        "# Данные\n",
        "stocks = mas_name  # Названия акций\n",
        "accuracy = mas_accuracy\n",
        "# Вычисление среднего значения\n",
        "mean_accuracy = np.mean(accuracy)\n",
        "\n",
        "# Создание гистограммы\n",
        "fig = go.Figure()\n",
        "fig.add_trace(go.Bar(\n",
        "    x=stocks,\n",
        "    y=accuracy,\n",
        "    text=[f'{val:.2f}' for val in accuracy],\n",
        "    textposition='outside',\n",
        "    marker_color='royalblue',\n",
        "    name='Accuracy'\n",
        "))\n",
        "\n",
        "# Добавление средней линии\n",
        "fig.add_trace(go.Scatter(\n",
        "    x=stocks,\n",
        "    y=[mean_accuracy] * len(stocks),\n",
        "    mode='lines',\n",
        "    line=dict(color='red', width=2, dash='dash'),\n",
        "    text=[f'{mean_accuracy:.2f}'] * len(stocks),\n",
        "    textposition='top right',\n",
        "    name='Mean Accuracy'\n",
        "))\n",
        "\n",
        "# Настройки макета\n",
        "fig.update_layout(\n",
        "    title='Stock Accuracy Comparison',\n",
        "    xaxis_title='Stock',\n",
        "    yaxis_title='Accuracy',\n",
        "    yaxis=dict(range=[min(accuracy) - 0.05, max(accuracy) + 0.05]),\n",
        "    bargap=0.3,\n",
        "    template='plotly_white',\n",
        "    width=700,\n",
        "    height=500\n",
        ")\n",
        "\n",
        "fig.show()"
      ],
      "metadata": {
        "id": "yyrnIq3AaDSG"
      },
      "execution_count": null,
      "outputs": []
    }
  ]
}